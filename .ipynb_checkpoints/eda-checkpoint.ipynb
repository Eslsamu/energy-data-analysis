{
 "cells": [
  {
   "cell_type": "markdown",
   "metadata": {},
   "source": [
    "## EDA Energy"
   ]
  },
  {
   "cell_type": "code",
   "execution_count": 151,
   "metadata": {},
   "outputs": [],
   "source": [
    "import pandas as pd\n",
    "import numpy as np\n",
    "import seaborn as sns\n",
    "import matplotlib.pyplot as plt\n",
    "%matplotlib inline"
   ]
  },
  {
   "cell_type": "markdown",
   "metadata": {},
   "source": [
    "---\n",
    "#### Electricity production from renewable sources, excluding hydroelectric (kWh) \n",
    "[Link](https://data.worldbank.org/indicator/EG.ELC.RNWX.KH?end=2015&start=2015&view=map&year=2015&year_low_desc=false)"
   ]
  },
  {
   "cell_type": "code",
   "execution_count": 57,
   "metadata": {},
   "outputs": [],
   "source": [
    "data1 = pd.read_csv('data1.csv')\n",
    "data1_country = pd.read_csv('data1_country.csv')"
   ]
  },
  {
   "cell_type": "code",
   "execution_count": 58,
   "metadata": {},
   "outputs": [],
   "source": [
    "data1 = data1[['Country Name', 'Country Code', 'Indicator Name', 'Indicator Code','2000', '2001', '2002', '2003', '2004','2005', '2006', '2007', '2008', '2009', '2010', '2011', '2012', '2013','2014', '2015', '2016', '2017']]\n",
    "data1 = pd.merge(data1, data1_country, on='Country Code', how='left')\n",
    "data1 = data1[data1['Region'] == 'Europe & Central Asia']\n",
    "for year in data1.columns[range(10,21)]:\n",
    "    data1['rate_'+str(year)] = (data1[str(int(year)+1)] / data1[str(year)]) -1\n",
    "data1.replace([np.inf, -np.inf], np.nan, inplace=True)"
   ]
  },
  {
   "cell_type": "code",
   "execution_count": 59,
   "metadata": {},
   "outputs": [],
   "source": [
    "#data1['rate_06_16'] = data1[data1.columns[range(27,38)]].mean(axis=1)\n",
    "#data1 = data1[['Country Name','rate_06_16']]\n",
    "#data1.columns = ['country','rate_06_16']"
   ]
  },
  {
   "cell_type": "code",
   "execution_count": 63,
   "metadata": {},
   "outputs": [],
   "source": [
    "data1 = data1.describe().loc['mean'][-11:].reset_index()"
   ]
  },
  {
   "cell_type": "code",
   "execution_count": 89,
   "metadata": {},
   "outputs": [],
   "source": [
    "data1.columns = ['year','production']"
   ]
  },
  {
   "cell_type": "code",
   "execution_count": 90,
   "metadata": {},
   "outputs": [
    {
     "data": {
      "text/html": [
       "<div>\n",
       "<style scoped>\n",
       "    .dataframe tbody tr th:only-of-type {\n",
       "        vertical-align: middle;\n",
       "    }\n",
       "\n",
       "    .dataframe tbody tr th {\n",
       "        vertical-align: top;\n",
       "    }\n",
       "\n",
       "    .dataframe thead th {\n",
       "        text-align: right;\n",
       "    }\n",
       "</style>\n",
       "<table border=\"1\" class=\"dataframe\">\n",
       "  <thead>\n",
       "    <tr style=\"text-align: right;\">\n",
       "      <th></th>\n",
       "      <th>year</th>\n",
       "      <th>production</th>\n",
       "    </tr>\n",
       "  </thead>\n",
       "  <tbody>\n",
       "    <tr>\n",
       "      <th>0</th>\n",
       "      <td>rate_2006</td>\n",
       "      <td>0.980267</td>\n",
       "    </tr>\n",
       "    <tr>\n",
       "      <th>1</th>\n",
       "      <td>rate_2007</td>\n",
       "      <td>0.391682</td>\n",
       "    </tr>\n",
       "    <tr>\n",
       "      <th>2</th>\n",
       "      <td>rate_2008</td>\n",
       "      <td>0.260877</td>\n",
       "    </tr>\n",
       "    <tr>\n",
       "      <th>3</th>\n",
       "      <td>rate_2009</td>\n",
       "      <td>0.894073</td>\n",
       "    </tr>\n",
       "    <tr>\n",
       "      <th>4</th>\n",
       "      <td>rate_2010</td>\n",
       "      <td>0.282351</td>\n",
       "    </tr>\n",
       "    <tr>\n",
       "      <th>5</th>\n",
       "      <td>rate_2011</td>\n",
       "      <td>0.353569</td>\n",
       "    </tr>\n",
       "    <tr>\n",
       "      <th>6</th>\n",
       "      <td>rate_2012</td>\n",
       "      <td>0.322749</td>\n",
       "    </tr>\n",
       "    <tr>\n",
       "      <th>7</th>\n",
       "      <td>rate_2013</td>\n",
       "      <td>0.479146</td>\n",
       "    </tr>\n",
       "    <tr>\n",
       "      <th>8</th>\n",
       "      <td>rate_2014</td>\n",
       "      <td>0.450512</td>\n",
       "    </tr>\n",
       "    <tr>\n",
       "      <th>9</th>\n",
       "      <td>rate_2015</td>\n",
       "      <td>NaN</td>\n",
       "    </tr>\n",
       "    <tr>\n",
       "      <th>10</th>\n",
       "      <td>rate_2016</td>\n",
       "      <td>NaN</td>\n",
       "    </tr>\n",
       "  </tbody>\n",
       "</table>\n",
       "</div>"
      ],
      "text/plain": [
       "         year  production\n",
       "0   rate_2006    0.980267\n",
       "1   rate_2007    0.391682\n",
       "2   rate_2008    0.260877\n",
       "3   rate_2009    0.894073\n",
       "4   rate_2010    0.282351\n",
       "5   rate_2011    0.353569\n",
       "6   rate_2012    0.322749\n",
       "7   rate_2013    0.479146\n",
       "8   rate_2014    0.450512\n",
       "9   rate_2015         NaN\n",
       "10  rate_2016         NaN"
      ]
     },
     "execution_count": 90,
     "metadata": {},
     "output_type": "execute_result"
    }
   ],
   "source": [
    "data1"
   ]
  },
  {
   "cell_type": "markdown",
   "metadata": {},
   "source": [
    "---\n",
    "### Renewable energy consumption (% of total final energy consumption)\n",
    "[Link](https://data.worldbank.org/indicator/EG.FEC.RNEW.ZS?view=map&year=2015)"
   ]
  },
  {
   "cell_type": "code",
   "execution_count": 54,
   "metadata": {},
   "outputs": [],
   "source": [
    "data3 = pd.read_csv('data3.csv')\n",
    "data3_country = pd.read_csv('data3_country.csv')"
   ]
  },
  {
   "cell_type": "code",
   "execution_count": 55,
   "metadata": {},
   "outputs": [],
   "source": [
    "data3 = data3[['Country Name', 'Country Code', 'Indicator Name', 'Indicator Code','2000', '2001', '2002', '2003', '2004','2005', '2006', '2007', '2008', '2009', '2010', '2011', '2012', '2013','2014', '2015', '2016', '2017']]\n",
    "data3 = pd.merge(data3, data3_country, on='Country Code', how='left')\n",
    "data3 = data3[data3['Region'] == 'Europe & Central Asia']\n",
    "for year in data3.columns[range(10,21)]:\n",
    "    data3['rate_'+str(year)] = (data3[str(int(year)+1)] / data3[str(year)]) -1"
   ]
  },
  {
   "cell_type": "code",
   "execution_count": 56,
   "metadata": {},
   "outputs": [],
   "source": [
    "#data3['rate_06_16'] = data3[data3.columns[range(27,38)]].mean(axis=1)\n",
    "#data3 = data3[['Country Name','rate_06_16']]\n",
    "#data3.columns = ['country','rate_06_16']"
   ]
  },
  {
   "cell_type": "code",
   "execution_count": 65,
   "metadata": {},
   "outputs": [],
   "source": [
    "data3 = data3.describe().loc['mean'][-11:].reset_index()"
   ]
  },
  {
   "cell_type": "code",
   "execution_count": 91,
   "metadata": {},
   "outputs": [],
   "source": [
    "data3.columns = ['year','consumption']"
   ]
  },
  {
   "cell_type": "code",
   "execution_count": 92,
   "metadata": {},
   "outputs": [
    {
     "data": {
      "text/html": [
       "<div>\n",
       "<style scoped>\n",
       "    .dataframe tbody tr th:only-of-type {\n",
       "        vertical-align: middle;\n",
       "    }\n",
       "\n",
       "    .dataframe tbody tr th {\n",
       "        vertical-align: top;\n",
       "    }\n",
       "\n",
       "    .dataframe thead th {\n",
       "        text-align: right;\n",
       "    }\n",
       "</style>\n",
       "<table border=\"1\" class=\"dataframe\">\n",
       "  <thead>\n",
       "    <tr style=\"text-align: right;\">\n",
       "      <th></th>\n",
       "      <th>year</th>\n",
       "      <th>consumption</th>\n",
       "    </tr>\n",
       "  </thead>\n",
       "  <tbody>\n",
       "    <tr>\n",
       "      <th>0</th>\n",
       "      <td>rate_2006</td>\n",
       "      <td>0.028620</td>\n",
       "    </tr>\n",
       "    <tr>\n",
       "      <th>1</th>\n",
       "      <td>rate_2007</td>\n",
       "      <td>0.053713</td>\n",
       "    </tr>\n",
       "    <tr>\n",
       "      <th>2</th>\n",
       "      <td>rate_2008</td>\n",
       "      <td>0.120462</td>\n",
       "    </tr>\n",
       "    <tr>\n",
       "      <th>3</th>\n",
       "      <td>rate_2009</td>\n",
       "      <td>0.073400</td>\n",
       "    </tr>\n",
       "    <tr>\n",
       "      <th>4</th>\n",
       "      <td>rate_2010</td>\n",
       "      <td>0.010465</td>\n",
       "    </tr>\n",
       "    <tr>\n",
       "      <th>5</th>\n",
       "      <td>rate_2011</td>\n",
       "      <td>0.043650</td>\n",
       "    </tr>\n",
       "    <tr>\n",
       "      <th>6</th>\n",
       "      <td>rate_2012</td>\n",
       "      <td>0.066188</td>\n",
       "    </tr>\n",
       "    <tr>\n",
       "      <th>7</th>\n",
       "      <td>rate_2013</td>\n",
       "      <td>0.054337</td>\n",
       "    </tr>\n",
       "    <tr>\n",
       "      <th>8</th>\n",
       "      <td>rate_2014</td>\n",
       "      <td>0.050783</td>\n",
       "    </tr>\n",
       "    <tr>\n",
       "      <th>9</th>\n",
       "      <td>rate_2015</td>\n",
       "      <td>NaN</td>\n",
       "    </tr>\n",
       "    <tr>\n",
       "      <th>10</th>\n",
       "      <td>rate_2016</td>\n",
       "      <td>NaN</td>\n",
       "    </tr>\n",
       "  </tbody>\n",
       "</table>\n",
       "</div>"
      ],
      "text/plain": [
       "         year  consumption\n",
       "0   rate_2006     0.028620\n",
       "1   rate_2007     0.053713\n",
       "2   rate_2008     0.120462\n",
       "3   rate_2009     0.073400\n",
       "4   rate_2010     0.010465\n",
       "5   rate_2011     0.043650\n",
       "6   rate_2012     0.066188\n",
       "7   rate_2013     0.054337\n",
       "8   rate_2014     0.050783\n",
       "9   rate_2015          NaN\n",
       "10  rate_2016          NaN"
      ]
     },
     "execution_count": 92,
     "metadata": {},
     "output_type": "execute_result"
    }
   ],
   "source": [
    "data3"
   ]
  },
  {
   "cell_type": "markdown",
   "metadata": {},
   "source": [
    "---\n",
    "### Climate Change laws of the world \n",
    "[Link](http://www.lse.ac.uk/GranthamInstitute/climate-change-laws-of-the-world/)"
   ]
  },
  {
   "cell_type": "code",
   "execution_count": 77,
   "metadata": {},
   "outputs": [],
   "source": [
    "data2 = pd.read_csv('data2.csv')"
   ]
  },
  {
   "cell_type": "code",
   "execution_count": 78,
   "metadata": {},
   "outputs": [],
   "source": [
    "data2 = data2.groupby(['Country','Year Passed']).count()['Name'].reset_index()\n",
    "data2 = pd.pivot_table(data2, 'Name', 'Country', 'Year Passed').reset_index()\n",
    "data2 = data2[['Country', 2005,2006,2007,2008,2009,2010,2011,2012,2013,2014,2015,2016,2017,2018]]\n",
    "for year in data2.columns[2:]:\n",
    "    data2['rate_'+str(year)] = (data2[year] / data2[year-1]) -1"
   ]
  },
  {
   "cell_type": "code",
   "execution_count": 79,
   "metadata": {},
   "outputs": [],
   "source": [
    "#data2['rate_06_16'] = data2[data2.columns[-13:-1]].mean(axis=1)\n",
    "#data2 = data2[['Country','rate_06_16']]\n",
    "#data2.columns = ['country','rate_06_16']"
   ]
  },
  {
   "cell_type": "code",
   "execution_count": 85,
   "metadata": {},
   "outputs": [],
   "source": [
    "data2 = data2.describe().loc['mean'][-13:-2].reset_index()"
   ]
  },
  {
   "cell_type": "code",
   "execution_count": 93,
   "metadata": {},
   "outputs": [],
   "source": [
    "data2.columns = ['year','legislation']"
   ]
  },
  {
   "cell_type": "code",
   "execution_count": 94,
   "metadata": {},
   "outputs": [
    {
     "data": {
      "text/html": [
       "<div>\n",
       "<style scoped>\n",
       "    .dataframe tbody tr th:only-of-type {\n",
       "        vertical-align: middle;\n",
       "    }\n",
       "\n",
       "    .dataframe tbody tr th {\n",
       "        vertical-align: top;\n",
       "    }\n",
       "\n",
       "    .dataframe thead th {\n",
       "        text-align: right;\n",
       "    }\n",
       "</style>\n",
       "<table border=\"1\" class=\"dataframe\">\n",
       "  <thead>\n",
       "    <tr style=\"text-align: right;\">\n",
       "      <th></th>\n",
       "      <th>year</th>\n",
       "      <th>legislation</th>\n",
       "    </tr>\n",
       "  </thead>\n",
       "  <tbody>\n",
       "    <tr>\n",
       "      <th>0</th>\n",
       "      <td>rate_2006</td>\n",
       "      <td>0.200000</td>\n",
       "    </tr>\n",
       "    <tr>\n",
       "      <th>1</th>\n",
       "      <td>rate_2007</td>\n",
       "      <td>0.055556</td>\n",
       "    </tr>\n",
       "    <tr>\n",
       "      <th>2</th>\n",
       "      <td>rate_2008</td>\n",
       "      <td>0.000000</td>\n",
       "    </tr>\n",
       "    <tr>\n",
       "      <th>3</th>\n",
       "      <td>rate_2009</td>\n",
       "      <td>1.500000</td>\n",
       "    </tr>\n",
       "    <tr>\n",
       "      <th>4</th>\n",
       "      <td>rate_2010</td>\n",
       "      <td>0.280992</td>\n",
       "    </tr>\n",
       "    <tr>\n",
       "      <th>5</th>\n",
       "      <td>rate_2011</td>\n",
       "      <td>0.172222</td>\n",
       "    </tr>\n",
       "    <tr>\n",
       "      <th>6</th>\n",
       "      <td>rate_2012</td>\n",
       "      <td>0.060606</td>\n",
       "    </tr>\n",
       "    <tr>\n",
       "      <th>7</th>\n",
       "      <td>rate_2013</td>\n",
       "      <td>0.431250</td>\n",
       "    </tr>\n",
       "    <tr>\n",
       "      <th>8</th>\n",
       "      <td>rate_2014</td>\n",
       "      <td>-0.107143</td>\n",
       "    </tr>\n",
       "    <tr>\n",
       "      <th>9</th>\n",
       "      <td>rate_2015</td>\n",
       "      <td>-0.166667</td>\n",
       "    </tr>\n",
       "    <tr>\n",
       "      <th>10</th>\n",
       "      <td>rate_2016</td>\n",
       "      <td>-0.062500</td>\n",
       "    </tr>\n",
       "  </tbody>\n",
       "</table>\n",
       "</div>"
      ],
      "text/plain": [
       "         year  legislation\n",
       "0   rate_2006     0.200000\n",
       "1   rate_2007     0.055556\n",
       "2   rate_2008     0.000000\n",
       "3   rate_2009     1.500000\n",
       "4   rate_2010     0.280992\n",
       "5   rate_2011     0.172222\n",
       "6   rate_2012     0.060606\n",
       "7   rate_2013     0.431250\n",
       "8   rate_2014    -0.107143\n",
       "9   rate_2015    -0.166667\n",
       "10  rate_2016    -0.062500"
      ]
     },
     "execution_count": 94,
     "metadata": {},
     "output_type": "execute_result"
    }
   ],
   "source": [
    "data2"
   ]
  },
  {
   "cell_type": "markdown",
   "metadata": {},
   "source": [
    "---\n",
    "### Eurostat, energy taxes \n",
    "[Link](https://ec.europa.eu/taxation_customs/business/economic-analysis-taxation/data-taxation_en)"
   ]
  },
  {
   "cell_type": "code",
   "execution_count": 98,
   "metadata": {},
   "outputs": [],
   "source": [
    "data4 = pd.read_csv('data4.csv', delimiter=';')"
   ]
  },
  {
   "cell_type": "code",
   "execution_count": 107,
   "metadata": {},
   "outputs": [],
   "source": [
    "for col in data4.columns[1:]:\n",
    "    data4[str(col)] = data4[str(col)].str.replace(',','.').astype(float)"
   ]
  },
  {
   "cell_type": "code",
   "execution_count": 71,
   "metadata": {},
   "outputs": [],
   "source": [
    "#data4 = data4[['country','2006 to 2016']]\n",
    "#data4.columns = ['country','rate_06_16']\n",
    "#data4['rate_06_16'] = data4['rate_06_16'].str.replace(',','.').astype(float)"
   ]
  },
  {
   "cell_type": "code",
   "execution_count": 116,
   "metadata": {},
   "outputs": [],
   "source": [
    "data4 = data4.describe().loc['mean'][2:-1].reset_index()"
   ]
  },
  {
   "cell_type": "code",
   "execution_count": 117,
   "metadata": {},
   "outputs": [],
   "source": [
    "data4.columns = ['year','taxation']"
   ]
  },
  {
   "cell_type": "code",
   "execution_count": 118,
   "metadata": {},
   "outputs": [
    {
     "data": {
      "text/html": [
       "<div>\n",
       "<style scoped>\n",
       "    .dataframe tbody tr th:only-of-type {\n",
       "        vertical-align: middle;\n",
       "    }\n",
       "\n",
       "    .dataframe tbody tr th {\n",
       "        vertical-align: top;\n",
       "    }\n",
       "\n",
       "    .dataframe thead th {\n",
       "        text-align: right;\n",
       "    }\n",
       "</style>\n",
       "<table border=\"1\" class=\"dataframe\">\n",
       "  <thead>\n",
       "    <tr style=\"text-align: right;\">\n",
       "      <th></th>\n",
       "      <th>year</th>\n",
       "      <th>taxation</th>\n",
       "    </tr>\n",
       "  </thead>\n",
       "  <tbody>\n",
       "    <tr>\n",
       "      <th>0</th>\n",
       "      <td>2006</td>\n",
       "      <td>2.589386</td>\n",
       "    </tr>\n",
       "    <tr>\n",
       "      <th>1</th>\n",
       "      <td>2007</td>\n",
       "      <td>2.560642</td>\n",
       "    </tr>\n",
       "    <tr>\n",
       "      <th>2</th>\n",
       "      <td>2008</td>\n",
       "      <td>2.452271</td>\n",
       "    </tr>\n",
       "    <tr>\n",
       "      <th>3</th>\n",
       "      <td>2009</td>\n",
       "      <td>2.501343</td>\n",
       "    </tr>\n",
       "    <tr>\n",
       "      <th>4</th>\n",
       "      <td>2010</td>\n",
       "      <td>2.551522</td>\n",
       "    </tr>\n",
       "    <tr>\n",
       "      <th>5</th>\n",
       "      <td>2011</td>\n",
       "      <td>2.535323</td>\n",
       "    </tr>\n",
       "    <tr>\n",
       "      <th>6</th>\n",
       "      <td>2012</td>\n",
       "      <td>2.526986</td>\n",
       "    </tr>\n",
       "    <tr>\n",
       "      <th>7</th>\n",
       "      <td>2013</td>\n",
       "      <td>2.560109</td>\n",
       "    </tr>\n",
       "    <tr>\n",
       "      <th>8</th>\n",
       "      <td>2014</td>\n",
       "      <td>2.593204</td>\n",
       "    </tr>\n",
       "    <tr>\n",
       "      <th>9</th>\n",
       "      <td>2015</td>\n",
       "      <td>2.606398</td>\n",
       "    </tr>\n",
       "    <tr>\n",
       "      <th>10</th>\n",
       "      <td>2016</td>\n",
       "      <td>2.629264</td>\n",
       "    </tr>\n",
       "  </tbody>\n",
       "</table>\n",
       "</div>"
      ],
      "text/plain": [
       "    year  taxation\n",
       "0   2006  2.589386\n",
       "1   2007  2.560642\n",
       "2   2008  2.452271\n",
       "3   2009  2.501343\n",
       "4   2010  2.551522\n",
       "5   2011  2.535323\n",
       "6   2012  2.526986\n",
       "7   2013  2.560109\n",
       "8   2014  2.593204\n",
       "9   2015  2.606398\n",
       "10  2016  2.629264"
      ]
     },
     "execution_count": 118,
     "metadata": {},
     "output_type": "execute_result"
    }
   ],
   "source": [
    "data4"
   ]
  },
  {
   "cell_type": "markdown",
   "metadata": {},
   "source": [
    "---\n",
    "### Merging years"
   ]
  },
  {
   "cell_type": "code",
   "execution_count": 163,
   "metadata": {},
   "outputs": [],
   "source": [
    "teable_years = pd.DataFrame(\n",
    "{'year':list(range(2006,2017)),\n",
    " data1.production.name: data1.production,\n",
    " data3.consumption.name: data3.consumption,\n",
    " data2.legislation.name: data2.legislation,\n",
    " data4.taxation.name: data4.taxation,\n",
    "})"
   ]
  },
  {
   "cell_type": "code",
   "execution_count": 165,
   "metadata": {},
   "outputs": [],
   "source": [
    "teable_years.replace(np.nan, 0, inplace=True)"
   ]
  },
  {
   "cell_type": "code",
   "execution_count": 166,
   "metadata": {},
   "outputs": [
    {
     "data": {
      "text/html": [
       "<div>\n",
       "<style scoped>\n",
       "    .dataframe tbody tr th:only-of-type {\n",
       "        vertical-align: middle;\n",
       "    }\n",
       "\n",
       "    .dataframe tbody tr th {\n",
       "        vertical-align: top;\n",
       "    }\n",
       "\n",
       "    .dataframe thead th {\n",
       "        text-align: right;\n",
       "    }\n",
       "</style>\n",
       "<table border=\"1\" class=\"dataframe\">\n",
       "  <thead>\n",
       "    <tr style=\"text-align: right;\">\n",
       "      <th></th>\n",
       "      <th>consumption</th>\n",
       "      <th>legislation</th>\n",
       "      <th>production</th>\n",
       "      <th>taxation</th>\n",
       "      <th>year</th>\n",
       "    </tr>\n",
       "  </thead>\n",
       "  <tbody>\n",
       "    <tr>\n",
       "      <th>0</th>\n",
       "      <td>0.028620</td>\n",
       "      <td>0.200000</td>\n",
       "      <td>0.980267</td>\n",
       "      <td>2.589386</td>\n",
       "      <td>2006</td>\n",
       "    </tr>\n",
       "    <tr>\n",
       "      <th>1</th>\n",
       "      <td>0.053713</td>\n",
       "      <td>0.055556</td>\n",
       "      <td>0.391682</td>\n",
       "      <td>2.560642</td>\n",
       "      <td>2007</td>\n",
       "    </tr>\n",
       "    <tr>\n",
       "      <th>2</th>\n",
       "      <td>0.120462</td>\n",
       "      <td>0.000000</td>\n",
       "      <td>0.260877</td>\n",
       "      <td>2.452271</td>\n",
       "      <td>2008</td>\n",
       "    </tr>\n",
       "    <tr>\n",
       "      <th>3</th>\n",
       "      <td>0.073400</td>\n",
       "      <td>1.500000</td>\n",
       "      <td>0.894073</td>\n",
       "      <td>2.501343</td>\n",
       "      <td>2009</td>\n",
       "    </tr>\n",
       "    <tr>\n",
       "      <th>4</th>\n",
       "      <td>0.010465</td>\n",
       "      <td>0.280992</td>\n",
       "      <td>0.282351</td>\n",
       "      <td>2.551522</td>\n",
       "      <td>2010</td>\n",
       "    </tr>\n",
       "    <tr>\n",
       "      <th>5</th>\n",
       "      <td>0.043650</td>\n",
       "      <td>0.172222</td>\n",
       "      <td>0.353569</td>\n",
       "      <td>2.535323</td>\n",
       "      <td>2011</td>\n",
       "    </tr>\n",
       "    <tr>\n",
       "      <th>6</th>\n",
       "      <td>0.066188</td>\n",
       "      <td>0.060606</td>\n",
       "      <td>0.322749</td>\n",
       "      <td>2.526986</td>\n",
       "      <td>2012</td>\n",
       "    </tr>\n",
       "    <tr>\n",
       "      <th>7</th>\n",
       "      <td>0.054337</td>\n",
       "      <td>0.431250</td>\n",
       "      <td>0.479146</td>\n",
       "      <td>2.560109</td>\n",
       "      <td>2013</td>\n",
       "    </tr>\n",
       "    <tr>\n",
       "      <th>8</th>\n",
       "      <td>0.050783</td>\n",
       "      <td>-0.107143</td>\n",
       "      <td>0.450512</td>\n",
       "      <td>2.593204</td>\n",
       "      <td>2014</td>\n",
       "    </tr>\n",
       "    <tr>\n",
       "      <th>9</th>\n",
       "      <td>0.000000</td>\n",
       "      <td>-0.166667</td>\n",
       "      <td>0.000000</td>\n",
       "      <td>2.606398</td>\n",
       "      <td>2015</td>\n",
       "    </tr>\n",
       "    <tr>\n",
       "      <th>10</th>\n",
       "      <td>0.000000</td>\n",
       "      <td>-0.062500</td>\n",
       "      <td>0.000000</td>\n",
       "      <td>2.629264</td>\n",
       "      <td>2016</td>\n",
       "    </tr>\n",
       "  </tbody>\n",
       "</table>\n",
       "</div>"
      ],
      "text/plain": [
       "    consumption  legislation  production  taxation  year\n",
       "0      0.028620     0.200000    0.980267  2.589386  2006\n",
       "1      0.053713     0.055556    0.391682  2.560642  2007\n",
       "2      0.120462     0.000000    0.260877  2.452271  2008\n",
       "3      0.073400     1.500000    0.894073  2.501343  2009\n",
       "4      0.010465     0.280992    0.282351  2.551522  2010\n",
       "5      0.043650     0.172222    0.353569  2.535323  2011\n",
       "6      0.066188     0.060606    0.322749  2.526986  2012\n",
       "7      0.054337     0.431250    0.479146  2.560109  2013\n",
       "8      0.050783    -0.107143    0.450512  2.593204  2014\n",
       "9      0.000000    -0.166667    0.000000  2.606398  2015\n",
       "10     0.000000    -0.062500    0.000000  2.629264  2016"
      ]
     },
     "execution_count": 166,
     "metadata": {},
     "output_type": "execute_result"
    }
   ],
   "source": [
    "teable_years"
   ]
  },
  {
   "cell_type": "code",
   "execution_count": 167,
   "metadata": {},
   "outputs": [],
   "source": [
    "teable_years.to_csv('energy_years.csv')"
   ]
  },
  {
   "cell_type": "code",
   "execution_count": 146,
   "metadata": {},
   "outputs": [
    {
     "data": {
      "text/plain": [
       "<seaborn.axisgrid.PairGrid at 0x1a16ce5048>"
      ]
     },
     "execution_count": 146,
     "metadata": {},
     "output_type": "execute_result"
    },
    {
     "data": {
      "image/png": "[encoded data removed]",
      "text/plain": [
       "<Figure size 720x720 with 20 Axes>"
      ]
     },
     "metadata": {},
     "output_type": "display_data"
    }
   ],
   "source": [
    "sns.pairplot(teable_years)"
   ]
  },
  {
   "cell_type": "code",
   "execution_count": 153,
   "metadata": {},
   "outputs": [
    {
     "data": {
      "text/html": [
       "<style  type=\"text/css\" >\n",
       "    #T_ae99d2b4_141d_11e9_923b_8c85904796d9row0_col0 {\n",
       "            background-color:  #023858;\n",
       "        }    #T_ae99d2b4_141d_11e9_923b_8c85904796d9row0_col1 {\n",
       "            background-color:  #7dacd1;\n",
       "        }    #T_ae99d2b4_141d_11e9_923b_8c85904796d9row0_col2 {\n",
       "            background-color:  #8cb3d5;\n",
       "        }    #T_ae99d2b4_141d_11e9_923b_8c85904796d9row0_col3 {\n",
       "            background-color:  #fff7fb;\n",
       "        }    #T_ae99d2b4_141d_11e9_923b_8c85904796d9row1_col0 {\n",
       "            background-color:  #3f93c2;\n",
       "        }    #T_ae99d2b4_141d_11e9_923b_8c85904796d9row1_col1 {\n",
       "            background-color:  #023858;\n",
       "        }    #T_ae99d2b4_141d_11e9_923b_8c85904796d9row1_col2 {\n",
       "            background-color:  #1077b4;\n",
       "        }    #T_ae99d2b4_141d_11e9_923b_8c85904796d9row1_col3 {\n",
       "            background-color:  #d1d2e6;\n",
       "        }    #T_ae99d2b4_141d_11e9_923b_8c85904796d9row2_col0 {\n",
       "            background-color:  #358fc0;\n",
       "        }    #T_ae99d2b4_141d_11e9_923b_8c85904796d9row2_col1 {\n",
       "            background-color:  #056faf;\n",
       "        }    #T_ae99d2b4_141d_11e9_923b_8c85904796d9row2_col2 {\n",
       "            background-color:  #023858;\n",
       "        }    #T_ae99d2b4_141d_11e9_923b_8c85904796d9row2_col3 {\n",
       "            background-color:  #b3c3de;\n",
       "        }    #T_ae99d2b4_141d_11e9_923b_8c85904796d9row3_col0 {\n",
       "            background-color:  #fff7fb;\n",
       "        }    #T_ae99d2b4_141d_11e9_923b_8c85904796d9row3_col1 {\n",
       "            background-color:  #fff7fb;\n",
       "        }    #T_ae99d2b4_141d_11e9_923b_8c85904796d9row3_col2 {\n",
       "            background-color:  #fff7fb;\n",
       "        }    #T_ae99d2b4_141d_11e9_923b_8c85904796d9row3_col3 {\n",
       "            background-color:  #023858;\n",
       "        }</style>  \n",
       "<table id=\"T_ae99d2b4_141d_11e9_923b_8c85904796d9\" > \n",
       "<thead>    <tr> \n",
       "        <th class=\"blank level0\" ></th> \n",
       "        <th class=\"col_heading level0 col0\" >consumption</th> \n",
       "        <th class=\"col_heading level0 col1\" >legislation</th> \n",
       "        <th class=\"col_heading level0 col2\" >production</th> \n",
       "        <th class=\"col_heading level0 col3\" >taxation</th> \n",
       "    </tr></thead> \n",
       "<tbody>    <tr> \n",
       "        <th id=\"T_ae99d2b4_141d_11e9_923b_8c85904796d9level0_row0\" class=\"row_heading level0 row0\" >consumption</th> \n",
       "        <td id=\"T_ae99d2b4_141d_11e9_923b_8c85904796d9row0_col0\" class=\"data row0 col0\" >1</td> \n",
       "        <td id=\"T_ae99d2b4_141d_11e9_923b_8c85904796d9row0_col1\" class=\"data row0 col1\" >0.26</td> \n",
       "        <td id=\"T_ae99d2b4_141d_11e9_923b_8c85904796d9row0_col2\" class=\"data row0 col2\" >0.31</td> \n",
       "        <td id=\"T_ae99d2b4_141d_11e9_923b_8c85904796d9row0_col3\" class=\"data row0 col3\" >-0.87</td> \n",
       "    </tr>    <tr> \n",
       "        <th id=\"T_ae99d2b4_141d_11e9_923b_8c85904796d9level0_row1\" class=\"row_heading level0 row1\" >legislation</th> \n",
       "        <td id=\"T_ae99d2b4_141d_11e9_923b_8c85904796d9row1_col0\" class=\"data row1 col0\" >0.26</td> \n",
       "        <td id=\"T_ae99d2b4_141d_11e9_923b_8c85904796d9row1_col1\" class=\"data row1 col1\" >1</td> \n",
       "        <td id=\"T_ae99d2b4_141d_11e9_923b_8c85904796d9row1_col2\" class=\"data row1 col2\" >0.65</td> \n",
       "        <td id=\"T_ae99d2b4_141d_11e9_923b_8c85904796d9row1_col3\" class=\"data row1 col3\" >-0.41</td> \n",
       "    </tr>    <tr> \n",
       "        <th id=\"T_ae99d2b4_141d_11e9_923b_8c85904796d9level0_row2\" class=\"row_heading level0 row2\" >production</th> \n",
       "        <td id=\"T_ae99d2b4_141d_11e9_923b_8c85904796d9row2_col0\" class=\"data row2 col0\" >0.31</td> \n",
       "        <td id=\"T_ae99d2b4_141d_11e9_923b_8c85904796d9row2_col1\" class=\"data row2 col1\" >0.65</td> \n",
       "        <td id=\"T_ae99d2b4_141d_11e9_923b_8c85904796d9row2_col2\" class=\"data row2 col2\" >1</td> \n",
       "        <td id=\"T_ae99d2b4_141d_11e9_923b_8c85904796d9row2_col3\" class=\"data row2 col3\" >-0.24</td> \n",
       "    </tr>    <tr> \n",
       "        <th id=\"T_ae99d2b4_141d_11e9_923b_8c85904796d9level0_row3\" class=\"row_heading level0 row3\" >taxation</th> \n",
       "        <td id=\"T_ae99d2b4_141d_11e9_923b_8c85904796d9row3_col0\" class=\"data row3 col0\" >-0.87</td> \n",
       "        <td id=\"T_ae99d2b4_141d_11e9_923b_8c85904796d9row3_col1\" class=\"data row3 col1\" >-0.41</td> \n",
       "        <td id=\"T_ae99d2b4_141d_11e9_923b_8c85904796d9row3_col2\" class=\"data row3 col2\" >-0.24</td> \n",
       "        <td id=\"T_ae99d2b4_141d_11e9_923b_8c85904796d9row3_col3\" class=\"data row3 col3\" >1</td> \n",
       "    </tr></tbody> \n",
       "</table> "
      ],
      "text/plain": [
       "<pandas.io.formats.style.Styler at 0x1a178a0940>"
      ]
     },
     "execution_count": 153,
     "metadata": {},
     "output_type": "execute_result"
    }
   ],
   "source": [
    "teable_years.corr().style.background_gradient().set_precision(2)"
   ]
  },
  {
   "cell_type": "markdown",
   "metadata": {},
   "source": [
    "---\n",
    "### Merging countries"
   ]
  },
  {
   "cell_type": "code",
   "execution_count": 156,
   "metadata": {},
   "outputs": [],
   "source": [
    "countries = pd.read_csv('data1_country.csv')[['Region','TableName']]\n",
    "countries.columns = ['region', 'country']"
   ]
  },
  {
   "cell_type": "code",
   "execution_count": null,
   "metadata": {},
   "outputs": [],
   "source": [
    "merge1 = pd.merge(countries, data1, on='country')\n",
    "merge2 = pd.merge(merge1, data2, on='country')\n",
    "merge3 = pd.merge(merge2, data3, on='country')\n",
    "merge4 = pd.merge(merge3, data4, on='country')"
   ]
  },
  {
   "cell_type": "code",
   "execution_count": 73,
   "metadata": {},
   "outputs": [],
   "source": [
    "table = merge4.dropna()"
   ]
  },
  {
   "cell_type": "code",
   "execution_count": 74,
   "metadata": {},
   "outputs": [],
   "source": [
    "table.columns = ['region','country','production','legislation','consumption','taxation']"
   ]
  },
  {
   "cell_type": "code",
   "execution_count": 75,
   "metadata": {},
   "outputs": [
    {
     "data": {
      "text/html": [
       "<div>\n",
       "<style scoped>\n",
       "    .dataframe tbody tr th:only-of-type {\n",
       "        vertical-align: middle;\n",
       "    }\n",
       "\n",
       "    .dataframe tbody tr th {\n",
       "        vertical-align: top;\n",
       "    }\n",
       "\n",
       "    .dataframe thead th {\n",
       "        text-align: right;\n",
       "    }\n",
       "</style>\n",
       "<table border=\"1\" class=\"dataframe\">\n",
       "  <thead>\n",
       "    <tr style=\"text-align: right;\">\n",
       "      <th></th>\n",
       "      <th>production</th>\n",
       "      <th>legislation</th>\n",
       "      <th>consumption</th>\n",
       "      <th>taxation</th>\n",
       "    </tr>\n",
       "  </thead>\n",
       "  <tbody>\n",
       "    <tr>\n",
       "      <th>0</th>\n",
       "      <td>0.080895</td>\n",
       "      <td>0.666667</td>\n",
       "      <td>0.031030</td>\n",
       "      <td>-0.061048</td>\n",
       "    </tr>\n",
       "    <tr>\n",
       "      <th>1</th>\n",
       "      <td>0.210196</td>\n",
       "      <td>0.000000</td>\n",
       "      <td>0.142241</td>\n",
       "      <td>-0.049405</td>\n",
       "    </tr>\n",
       "    <tr>\n",
       "      <th>2</th>\n",
       "      <td>0.881785</td>\n",
       "      <td>0.500000</td>\n",
       "      <td>0.072265</td>\n",
       "      <td>-0.054084</td>\n",
       "    </tr>\n",
       "    <tr>\n",
       "      <th>5</th>\n",
       "      <td>0.143386</td>\n",
       "      <td>0.000000</td>\n",
       "      <td>0.072497</td>\n",
       "      <td>-0.487183</td>\n",
       "    </tr>\n",
       "    <tr>\n",
       "      <th>6</th>\n",
       "      <td>0.086369</td>\n",
       "      <td>0.625000</td>\n",
       "      <td>0.091103</td>\n",
       "      <td>-0.688986</td>\n",
       "    </tr>\n",
       "    <tr>\n",
       "      <th>7</th>\n",
       "      <td>0.118490</td>\n",
       "      <td>0.255102</td>\n",
       "      <td>0.078473</td>\n",
       "      <td>0.020146</td>\n",
       "    </tr>\n",
       "    <tr>\n",
       "      <th>9</th>\n",
       "      <td>0.030891</td>\n",
       "      <td>-0.388889</td>\n",
       "      <td>0.037890</td>\n",
       "      <td>0.198823</td>\n",
       "    </tr>\n",
       "    <tr>\n",
       "      <th>10</th>\n",
       "      <td>0.218210</td>\n",
       "      <td>0.000000</td>\n",
       "      <td>0.055386</td>\n",
       "      <td>0.279670</td>\n",
       "    </tr>\n",
       "    <tr>\n",
       "      <th>11</th>\n",
       "      <td>0.217062</td>\n",
       "      <td>-0.222222</td>\n",
       "      <td>0.216707</td>\n",
       "      <td>0.231843</td>\n",
       "    </tr>\n",
       "    <tr>\n",
       "      <th>12</th>\n",
       "      <td>0.217062</td>\n",
       "      <td>-0.222222</td>\n",
       "      <td>0.216707</td>\n",
       "      <td>0.231843</td>\n",
       "    </tr>\n",
       "    <tr>\n",
       "      <th>13</th>\n",
       "      <td>0.199471</td>\n",
       "      <td>-0.375000</td>\n",
       "      <td>0.090194</td>\n",
       "      <td>1.786133</td>\n",
       "    </tr>\n",
       "    <tr>\n",
       "      <th>14</th>\n",
       "      <td>0.515184</td>\n",
       "      <td>0.200000</td>\n",
       "      <td>0.032801</td>\n",
       "      <td>0.243787</td>\n",
       "    </tr>\n",
       "    <tr>\n",
       "      <th>15</th>\n",
       "      <td>0.103707</td>\n",
       "      <td>0.000000</td>\n",
       "      <td>0.139032</td>\n",
       "      <td>-0.020335</td>\n",
       "    </tr>\n",
       "    <tr>\n",
       "      <th>16</th>\n",
       "      <td>0.177522</td>\n",
       "      <td>0.250000</td>\n",
       "      <td>0.126706</td>\n",
       "      <td>-0.580539</td>\n",
       "    </tr>\n",
       "    <tr>\n",
       "      <th>17</th>\n",
       "      <td>0.079956</td>\n",
       "      <td>1.000000</td>\n",
       "      <td>0.021243</td>\n",
       "      <td>-0.800281</td>\n",
       "    </tr>\n",
       "    <tr>\n",
       "      <th>18</th>\n",
       "      <td>0.193479</td>\n",
       "      <td>0.000000</td>\n",
       "      <td>0.096413</td>\n",
       "      <td>0.633796</td>\n",
       "    </tr>\n",
       "    <tr>\n",
       "      <th>20</th>\n",
       "      <td>0.107187</td>\n",
       "      <td>0.000000</td>\n",
       "      <td>0.197301</td>\n",
       "      <td>-0.885605</td>\n",
       "    </tr>\n",
       "    <tr>\n",
       "      <th>22</th>\n",
       "      <td>0.066433</td>\n",
       "      <td>0.200000</td>\n",
       "      <td>0.076144</td>\n",
       "      <td>-0.249377</td>\n",
       "    </tr>\n",
       "    <tr>\n",
       "      <th>23</th>\n",
       "      <td>0.120658</td>\n",
       "      <td>0.000000</td>\n",
       "      <td>0.001519</td>\n",
       "      <td>-0.477152</td>\n",
       "    </tr>\n",
       "    <tr>\n",
       "      <th>24</th>\n",
       "      <td>0.288686</td>\n",
       "      <td>0.000000</td>\n",
       "      <td>0.058372</td>\n",
       "      <td>0.065337</td>\n",
       "    </tr>\n",
       "    <tr>\n",
       "      <th>25</th>\n",
       "      <td>0.148969</td>\n",
       "      <td>0.500000</td>\n",
       "      <td>0.025425</td>\n",
       "      <td>-0.199679</td>\n",
       "    </tr>\n",
       "    <tr>\n",
       "      <th>26</th>\n",
       "      <td>3.782408</td>\n",
       "      <td>0.291667</td>\n",
       "      <td>0.037335</td>\n",
       "      <td>0.417776</td>\n",
       "    </tr>\n",
       "    <tr>\n",
       "      <th>27</th>\n",
       "      <td>0.268986</td>\n",
       "      <td>0.000000</td>\n",
       "      <td>0.048751</td>\n",
       "      <td>0.908811</td>\n",
       "    </tr>\n",
       "    <tr>\n",
       "      <th>28</th>\n",
       "      <td>0.127119</td>\n",
       "      <td>0.000000</td>\n",
       "      <td>0.029693</td>\n",
       "      <td>-0.387833</td>\n",
       "    </tr>\n",
       "  </tbody>\n",
       "</table>\n",
       "</div>"
      ],
      "text/plain": [
       "    production  legislation  consumption  taxation\n",
       "0     0.080895     0.666667     0.031030 -0.061048\n",
       "1     0.210196     0.000000     0.142241 -0.049405\n",
       "2     0.881785     0.500000     0.072265 -0.054084\n",
       "5     0.143386     0.000000     0.072497 -0.487183\n",
       "6     0.086369     0.625000     0.091103 -0.688986\n",
       "7     0.118490     0.255102     0.078473  0.020146\n",
       "9     0.030891    -0.388889     0.037890  0.198823\n",
       "10    0.218210     0.000000     0.055386  0.279670\n",
       "11    0.217062    -0.222222     0.216707  0.231843\n",
       "12    0.217062    -0.222222     0.216707  0.231843\n",
       "13    0.199471    -0.375000     0.090194  1.786133\n",
       "14    0.515184     0.200000     0.032801  0.243787\n",
       "15    0.103707     0.000000     0.139032 -0.020335\n",
       "16    0.177522     0.250000     0.126706 -0.580539\n",
       "17    0.079956     1.000000     0.021243 -0.800281\n",
       "18    0.193479     0.000000     0.096413  0.633796\n",
       "20    0.107187     0.000000     0.197301 -0.885605\n",
       "22    0.066433     0.200000     0.076144 -0.249377\n",
       "23    0.120658     0.000000     0.001519 -0.477152\n",
       "24    0.288686     0.000000     0.058372  0.065337\n",
       "25    0.148969     0.500000     0.025425 -0.199679\n",
       "26    3.782408     0.291667     0.037335  0.417776\n",
       "27    0.268986     0.000000     0.048751  0.908811\n",
       "28    0.127119     0.000000     0.029693 -0.387833"
      ]
     },
     "execution_count": 75,
     "metadata": {},
     "output_type": "execute_result"
    }
   ],
   "source": [
    "table._get_numeric_data()"
   ]
  },
  {
   "cell_type": "code",
   "execution_count": 79,
   "metadata": {},
   "outputs": [
    {
     "data": {
      "text/plain": [
       "<seaborn.axisgrid.PairGrid at 0x10b197320>"
      ]
     },
     "execution_count": 79,
     "metadata": {},
     "output_type": "execute_result"
    },
    {
     "data": {
      "image/png": "[encoded data removed]",
      "text/plain": [
       "<Figure size 836.25x720 with 20 Axes>"
      ]
     },
     "metadata": {},
     "output_type": "display_data"
    }
   ],
   "source": [
    "sns.pairplot(table, hue=\"country\")"
   ]
  },
  {
   "cell_type": "code",
   "execution_count": 81,
   "metadata": {},
   "outputs": [],
   "source": [
    "table.to_csv('energy.csv')"
   ]
  },
  {
   "cell_type": "code",
   "execution_count": null,
   "metadata": {},
   "outputs": [],
   "source": []
  }
 ],
 "metadata": {
  "kernelspec": {
   "display_name": "Python 3",
   "language": "python",
   "name": "python3"
  },
  "language_info": {
   "codemirror_mode": {
    "name": "ipython",
    "version": 3
   },
   "file_extension": ".py",
   "mimetype": "text/x-python",
   "name": "python",
   "nbconvert_exporter": "python",
   "pygments_lexer": "ipython3",
   "version": "3.6.5"
  }
 },
 "nbformat": 4,
 "nbformat_minor": 2
}
