{
 "cells": [
  {
   "cell_type": "code",
   "execution_count": 1,
   "metadata": {},
   "outputs": [],
   "source": [
    "import pandas as pd"
   ]
  },
  {
   "cell_type": "code",
   "execution_count": 2,
   "metadata": {},
   "outputs": [
    {
     "name": "stdout",
     "output_type": "stream",
     "text": [
      "total 1568\n",
      "drwxr-xr-x   20 pedrohserrano  staff     640 Jan  8 22:16 \u001b[34m.\u001b[m\u001b[m\n",
      "drwxr-xr-x+ 191 pedrohserrano  staff    6112 Jan  8 20:52 \u001b[34m..\u001b[m\u001b[m\n",
      "-rw-r--r--@   1 pedrohserrano  staff    6148 Jan  8 21:14 .DS_Store\n",
      "drwxr-xr-x   13 pedrohserrano  staff     416 Jan  8 20:51 \u001b[34m.git\u001b[m\u001b[m\n",
      "drwxr-xr-x    4 pedrohserrano  staff     128 Jan  8 21:15 \u001b[34m.ipynb_checkpoints\u001b[m\u001b[m\n",
      "-rw-r--r--@   1 pedrohserrano  staff   15703 Jan  7 17:17 Dataset Links.docx\n",
      "-rw-r--r--@   1 pedrohserrano  staff   12100 Dec 12 19:04 Literature review.xlsx\n",
      "-rw-r--r--    1 pedrohserrano  staff      12 Jan  8 20:41 README.md\n",
      "-rw-r--r--@   1 pedrohserrano  staff   88482 Jan  7 17:12 TPI-dataset-for-download-18-September-2018.xlsx\n",
      "-rwxr-xr-x@   1 pedrohserrano  staff  128270 Jan  8 20:51 \u001b[31mdata1.csv\u001b[m\u001b[m\n",
      "-rwxr-xr-x@   1 pedrohserrano  staff   39086 Jan  8 20:46 \u001b[31mdata1_country.csv\u001b[m\u001b[m\n",
      "-rw-rw-rw-@   1 pedrohserrano  staff   87544 Jan  7 16:10 data2.csv\n",
      "-rwxr-xr-x@   1 pedrohserrano  staff  174553 Jan  8 20:52 \u001b[31mdata3.csv\u001b[m\u001b[m\n",
      "-rwxr-xr-x@   1 pedrohserrano  staff   39350 Nov 14 23:18 \u001b[31mdata3_country.csv\u001b[m\u001b[m\n",
      "-rw-r--r--@   1 pedrohserrano  staff    5918 Jan  8 21:40 data4.csv\n",
      "-rw-r--r--@   1 pedrohserrano  staff   15638 Jan  8 20:31 data4.xlsx\n",
      "-rw-r--r--    1 pedrohserrano  staff     308 Jan  8 21:17 dataanotate.txt\n",
      "-rw-r--r--    1 pedrohserrano  staff   21336 Jan  8 22:16 eda.ipynb\n",
      "-rw-r--r--@   1 pedrohserrano  staff   99848 Jan  7 17:16 environment-and-energy-taxes.xlsx\n",
      "-rw-r--r--@   1 pedrohserrano  staff   13861 Dec 12 19:22 hypotheses.docx\n"
     ]
    }
   ],
   "source": [
    "!ls -la"
   ]
  },
  {
   "cell_type": "code",
   "execution_count": 3,
   "metadata": {},
   "outputs": [],
   "source": [
    "data1 = pd.read_csv('data1.csv')"
   ]
  },
  {
   "cell_type": "code",
   "execution_count": 4,
   "metadata": {},
   "outputs": [],
   "source": [
    "data1 = data1[['Country Name', 'Country Code', 'Indicator Name', 'Indicator Code','2000', '2001', '2002', '2003', '2004',\n",
    "       '2005', '2006', '2007', '2008', '2009', '2010', '2011', '2012', '2013',\n",
    "       '2014', '2015', '2016', '2017']]"
   ]
  },
  {
   "cell_type": "code",
   "execution_count": 5,
   "metadata": {},
   "outputs": [],
   "source": [
    "data1_country = pd.read_csv('data1_country.csv')"
   ]
  },
  {
   "cell_type": "code",
   "execution_count": 6,
   "metadata": {},
   "outputs": [],
   "source": [
    "data1 = pd.merge(data1, data1_country, on='Country Code', how='left')\n",
    "data1 = data1[data1['Region'] == 'Europe & Central Asia']"
   ]
  },
  {
   "cell_type": "code",
   "execution_count": 7,
   "metadata": {},
   "outputs": [
    {
     "data": {
      "text/plain": [
       "Index(['2006', '2007', '2008', '2009', '2010', '2011', '2012', '2013', '2014',\n",
       "       '2015', '2016'],\n",
       "      dtype='object')"
      ]
     },
     "execution_count": 7,
     "metadata": {},
     "output_type": "execute_result"
    }
   ],
   "source": [
    "data1.columns[range(10,21)]"
   ]
  },
  {
   "cell_type": "code",
   "execution_count": 8,
   "metadata": {},
   "outputs": [],
   "source": [
    "for year in data1.columns[range(10,21)]:\n",
    "    data1['rate_'+str(year)] = (data1[str(int(year)+1)] / data1[str(year)]) -1"
   ]
  },
  {
   "cell_type": "code",
   "execution_count": 9,
   "metadata": {},
   "outputs": [],
   "source": [
    "data1['rate_06_16'] = data1[data1.columns[range(27,38)]].mean(axis=1)"
   ]
  },
  {
   "cell_type": "code",
   "execution_count": 10,
   "metadata": {},
   "outputs": [],
   "source": [
    "data1 = data1[['Country Name','rate_06_16']]"
   ]
  },
  {
   "cell_type": "code",
   "execution_count": 11,
   "metadata": {},
   "outputs": [],
   "source": [
    "data1.columns = ['country','rate_06_16']"
   ]
  },
  {
   "cell_type": "code",
   "execution_count": 12,
   "metadata": {},
   "outputs": [
    {
     "data": {
      "text/html": [
       "<div>\n",
       "<style scoped>\n",
       "    .dataframe tbody tr th:only-of-type {\n",
       "        vertical-align: middle;\n",
       "    }\n",
       "\n",
       "    .dataframe tbody tr th {\n",
       "        vertical-align: top;\n",
       "    }\n",
       "\n",
       "    .dataframe thead th {\n",
       "        text-align: right;\n",
       "    }\n",
       "</style>\n",
       "<table border=\"1\" class=\"dataframe\">\n",
       "  <thead>\n",
       "    <tr style=\"text-align: right;\">\n",
       "      <th></th>\n",
       "      <th>country</th>\n",
       "      <th>rate_06_16</th>\n",
       "    </tr>\n",
       "  </thead>\n",
       "  <tbody>\n",
       "    <tr>\n",
       "      <th>3</th>\n",
       "      <td>Albania</td>\n",
       "      <td>NaN</td>\n",
       "    </tr>\n",
       "    <tr>\n",
       "      <th>4</th>\n",
       "      <td>Andorra</td>\n",
       "      <td>NaN</td>\n",
       "    </tr>\n",
       "    <tr>\n",
       "      <th>8</th>\n",
       "      <td>Armenia</td>\n",
       "      <td>inf</td>\n",
       "    </tr>\n",
       "    <tr>\n",
       "      <th>12</th>\n",
       "      <td>Austria</td>\n",
       "      <td>0.080895</td>\n",
       "    </tr>\n",
       "    <tr>\n",
       "      <th>13</th>\n",
       "      <td>Azerbaijan</td>\n",
       "      <td>inf</td>\n",
       "    </tr>\n",
       "  </tbody>\n",
       "</table>\n",
       "</div>"
      ],
      "text/plain": [
       "       country  rate_06_16\n",
       "3      Albania         NaN\n",
       "4      Andorra         NaN\n",
       "8      Armenia         inf\n",
       "12     Austria    0.080895\n",
       "13  Azerbaijan         inf"
      ]
     },
     "execution_count": 12,
     "metadata": {},
     "output_type": "execute_result"
    }
   ],
   "source": [
    "data1.head()"
   ]
  },
  {
   "cell_type": "markdown",
   "metadata": {},
   "source": [
    "---"
   ]
  },
  {
   "cell_type": "code",
   "execution_count": null,
   "metadata": {},
   "outputs": [],
   "source": []
  },
  {
   "cell_type": "code",
   "execution_count": 13,
   "metadata": {},
   "outputs": [],
   "source": [
    "data3 = pd.read_csv('data3.csv')"
   ]
  },
  {
   "cell_type": "code",
   "execution_count": 14,
   "metadata": {},
   "outputs": [],
   "source": [
    "data3 = data3[['Country Name', 'Country Code', 'Indicator Name', 'Indicator Code','2000', '2001', '2002', '2003', '2004',\n",
    "       '2005', '2006', '2007', '2008', '2009', '2010', '2011', '2012', '2013',\n",
    "       '2014', '2015', '2016', '2017']]"
   ]
  },
  {
   "cell_type": "code",
   "execution_count": 15,
   "metadata": {},
   "outputs": [],
   "source": [
    "data3_country = pd.read_csv('data3_country.csv')"
   ]
  },
  {
   "cell_type": "code",
   "execution_count": 16,
   "metadata": {},
   "outputs": [],
   "source": [
    "data3 = pd.merge(data3, data3_country, on='Country Code', how='left')"
   ]
  },
  {
   "cell_type": "code",
   "execution_count": 17,
   "metadata": {},
   "outputs": [],
   "source": [
    "data3 = data3[data3['Region'] == 'Europe & Central Asia']"
   ]
  },
  {
   "cell_type": "code",
   "execution_count": 18,
   "metadata": {},
   "outputs": [],
   "source": [
    "for year in data3.columns[range(10,21)]:\n",
    "    data3['rate_'+str(year)] = (data3[str(int(year)+1)] / data3[str(year)]) -1"
   ]
  },
  {
   "cell_type": "code",
   "execution_count": 19,
   "metadata": {},
   "outputs": [],
   "source": [
    "data3['rate_06_16'] = data3[data3.columns[range(27,38)]].mean(axis=1)"
   ]
  },
  {
   "cell_type": "code",
   "execution_count": 20,
   "metadata": {},
   "outputs": [],
   "source": [
    "data3 = data3[['Country Name','rate_06_16']]"
   ]
  },
  {
   "cell_type": "code",
   "execution_count": 21,
   "metadata": {},
   "outputs": [],
   "source": [
    "data3.columns = ['country','rate_06_16']"
   ]
  },
  {
   "cell_type": "code",
   "execution_count": 22,
   "metadata": {},
   "outputs": [
    {
     "data": {
      "text/html": [
       "<div>\n",
       "<style scoped>\n",
       "    .dataframe tbody tr th:only-of-type {\n",
       "        vertical-align: middle;\n",
       "    }\n",
       "\n",
       "    .dataframe tbody tr th {\n",
       "        vertical-align: top;\n",
       "    }\n",
       "\n",
       "    .dataframe thead th {\n",
       "        text-align: right;\n",
       "    }\n",
       "</style>\n",
       "<table border=\"1\" class=\"dataframe\">\n",
       "  <thead>\n",
       "    <tr style=\"text-align: right;\">\n",
       "      <th></th>\n",
       "      <th>country</th>\n",
       "      <th>rate_06_16</th>\n",
       "    </tr>\n",
       "  </thead>\n",
       "  <tbody>\n",
       "    <tr>\n",
       "      <th>3</th>\n",
       "      <td>Albania</td>\n",
       "      <td>0.023701</td>\n",
       "    </tr>\n",
       "    <tr>\n",
       "      <th>4</th>\n",
       "      <td>Andorra</td>\n",
       "      <td>0.014088</td>\n",
       "    </tr>\n",
       "    <tr>\n",
       "      <th>8</th>\n",
       "      <td>Armenia</td>\n",
       "      <td>0.126600</td>\n",
       "    </tr>\n",
       "    <tr>\n",
       "      <th>12</th>\n",
       "      <td>Austria</td>\n",
       "      <td>0.031030</td>\n",
       "    </tr>\n",
       "    <tr>\n",
       "      <th>13</th>\n",
       "      <td>Azerbaijan</td>\n",
       "      <td>-0.002704</td>\n",
       "    </tr>\n",
       "  </tbody>\n",
       "</table>\n",
       "</div>"
      ],
      "text/plain": [
       "       country  rate_06_16\n",
       "3      Albania    0.023701\n",
       "4      Andorra    0.014088\n",
       "8      Armenia    0.126600\n",
       "12     Austria    0.031030\n",
       "13  Azerbaijan   -0.002704"
      ]
     },
     "execution_count": 22,
     "metadata": {},
     "output_type": "execute_result"
    }
   ],
   "source": [
    "data3.head()"
   ]
  },
  {
   "cell_type": "markdown",
   "metadata": {},
   "source": [
    "---"
   ]
  },
  {
   "cell_type": "code",
   "execution_count": 23,
   "metadata": {},
   "outputs": [],
   "source": [
    "data2 = pd.read_csv('data2.csv')"
   ]
  },
  {
   "cell_type": "code",
   "execution_count": 24,
   "metadata": {},
   "outputs": [],
   "source": [
    "data2 = data2.groupby(['Country','Year Passed']).count()['Name'].reset_index()"
   ]
  },
  {
   "cell_type": "code",
   "execution_count": 25,
   "metadata": {},
   "outputs": [],
   "source": [
    "data2 = pd.pivot_table(data2, 'Name', 'Country', 'Year Passed').reset_index()"
   ]
  },
  {
   "cell_type": "code",
   "execution_count": 26,
   "metadata": {},
   "outputs": [],
   "source": [
    "data2 = data2[['Country', 2005,\n",
    "            2006,      2007,      2008,      2009,      2010,      2011,\n",
    "            2012,      2013,      2014,      2015,      2016,      2017,\n",
    "            2018]]"
   ]
  },
  {
   "cell_type": "code",
   "execution_count": 27,
   "metadata": {},
   "outputs": [
    {
     "data": {
      "text/html": [
       "<div>\n",
       "<style scoped>\n",
       "    .dataframe tbody tr th:only-of-type {\n",
       "        vertical-align: middle;\n",
       "    }\n",
       "\n",
       "    .dataframe tbody tr th {\n",
       "        vertical-align: top;\n",
       "    }\n",
       "\n",
       "    .dataframe thead th {\n",
       "        text-align: right;\n",
       "    }\n",
       "</style>\n",
       "<table border=\"1\" class=\"dataframe\">\n",
       "  <thead>\n",
       "    <tr style=\"text-align: right;\">\n",
       "      <th>Year Passed</th>\n",
       "      <th>Country</th>\n",
       "      <th>2005</th>\n",
       "      <th>2006</th>\n",
       "      <th>2007</th>\n",
       "      <th>2008</th>\n",
       "      <th>2009</th>\n",
       "      <th>2010</th>\n",
       "      <th>2011</th>\n",
       "      <th>2012</th>\n",
       "      <th>2013</th>\n",
       "      <th>2014</th>\n",
       "      <th>2015</th>\n",
       "      <th>2016</th>\n",
       "      <th>2017</th>\n",
       "      <th>2018</th>\n",
       "    </tr>\n",
       "  </thead>\n",
       "  <tbody>\n",
       "    <tr>\n",
       "      <th>0</th>\n",
       "      <td>Albania</td>\n",
       "      <td>NaN</td>\n",
       "      <td>NaN</td>\n",
       "      <td>NaN</td>\n",
       "      <td>NaN</td>\n",
       "      <td>NaN</td>\n",
       "      <td>NaN</td>\n",
       "      <td>NaN</td>\n",
       "      <td>NaN</td>\n",
       "      <td>1.0</td>\n",
       "      <td>NaN</td>\n",
       "      <td>NaN</td>\n",
       "      <td>NaN</td>\n",
       "      <td>1.0</td>\n",
       "      <td>NaN</td>\n",
       "    </tr>\n",
       "    <tr>\n",
       "      <th>1</th>\n",
       "      <td>Andorra</td>\n",
       "      <td>NaN</td>\n",
       "      <td>NaN</td>\n",
       "      <td>NaN</td>\n",
       "      <td>NaN</td>\n",
       "      <td>NaN</td>\n",
       "      <td>2.0</td>\n",
       "      <td>1.0</td>\n",
       "      <td>2.0</td>\n",
       "      <td>1.0</td>\n",
       "      <td>NaN</td>\n",
       "      <td>2.0</td>\n",
       "      <td>NaN</td>\n",
       "      <td>NaN</td>\n",
       "      <td>NaN</td>\n",
       "    </tr>\n",
       "    <tr>\n",
       "      <th>2</th>\n",
       "      <td>Armenia</td>\n",
       "      <td>2.0</td>\n",
       "      <td>NaN</td>\n",
       "      <td>1.0</td>\n",
       "      <td>1.0</td>\n",
       "      <td>NaN</td>\n",
       "      <td>1.0</td>\n",
       "      <td>NaN</td>\n",
       "      <td>NaN</td>\n",
       "      <td>NaN</td>\n",
       "      <td>1.0</td>\n",
       "      <td>NaN</td>\n",
       "      <td>NaN</td>\n",
       "      <td>NaN</td>\n",
       "      <td>NaN</td>\n",
       "    </tr>\n",
       "    <tr>\n",
       "      <th>3</th>\n",
       "      <td>Austria</td>\n",
       "      <td>NaN</td>\n",
       "      <td>NaN</td>\n",
       "      <td>2.0</td>\n",
       "      <td>NaN</td>\n",
       "      <td>NaN</td>\n",
       "      <td>1.0</td>\n",
       "      <td>3.0</td>\n",
       "      <td>1.0</td>\n",
       "      <td>NaN</td>\n",
       "      <td>1.0</td>\n",
       "      <td>NaN</td>\n",
       "      <td>NaN</td>\n",
       "      <td>NaN</td>\n",
       "      <td>NaN</td>\n",
       "    </tr>\n",
       "    <tr>\n",
       "      <th>4</th>\n",
       "      <td>Azerbaijan</td>\n",
       "      <td>NaN</td>\n",
       "      <td>NaN</td>\n",
       "      <td>NaN</td>\n",
       "      <td>1.0</td>\n",
       "      <td>NaN</td>\n",
       "      <td>NaN</td>\n",
       "      <td>NaN</td>\n",
       "      <td>NaN</td>\n",
       "      <td>1.0</td>\n",
       "      <td>1.0</td>\n",
       "      <td>NaN</td>\n",
       "      <td>NaN</td>\n",
       "      <td>NaN</td>\n",
       "      <td>NaN</td>\n",
       "    </tr>\n",
       "  </tbody>\n",
       "</table>\n",
       "</div>"
      ],
      "text/plain": [
       "Year Passed     Country  2005  2006  2007  2008  2009  2010  2011  2012  2013  \\\n",
       "0               Albania   NaN   NaN   NaN   NaN   NaN   NaN   NaN   NaN   1.0   \n",
       "1               Andorra   NaN   NaN   NaN   NaN   NaN   2.0   1.0   2.0   1.0   \n",
       "2               Armenia   2.0   NaN   1.0   1.0   NaN   1.0   NaN   NaN   NaN   \n",
       "3               Austria   NaN   NaN   2.0   NaN   NaN   1.0   3.0   1.0   NaN   \n",
       "4            Azerbaijan   NaN   NaN   NaN   1.0   NaN   NaN   NaN   NaN   1.0   \n",
       "\n",
       "Year Passed  2014  2015  2016  2017  2018  \n",
       "0             NaN   NaN   NaN   1.0   NaN  \n",
       "1             NaN   2.0   NaN   NaN   NaN  \n",
       "2             1.0   NaN   NaN   NaN   NaN  \n",
       "3             1.0   NaN   NaN   NaN   NaN  \n",
       "4             1.0   NaN   NaN   NaN   NaN  "
      ]
     },
     "execution_count": 27,
     "metadata": {},
     "output_type": "execute_result"
    }
   ],
   "source": [
    "data2.head()"
   ]
  },
  {
   "cell_type": "code",
   "execution_count": 28,
   "metadata": {},
   "outputs": [
    {
     "data": {
      "text/plain": [
       "Index([2005, 2006, 2007, 2008, 2009, 2010, 2011, 2012, 2013, 2014, 2015, 2016,\n",
       "       2017, 2018],\n",
       "      dtype='object', name='Year Passed')"
      ]
     },
     "execution_count": 28,
     "metadata": {},
     "output_type": "execute_result"
    }
   ],
   "source": [
    "data2.columns[1:]"
   ]
  },
  {
   "cell_type": "code",
   "execution_count": 29,
   "metadata": {},
   "outputs": [],
   "source": [
    "for year in data2.columns[2:]:\n",
    "    data2['rate_'+str(year)] = (data2[year] / data2[year-1]) -1"
   ]
  },
  {
   "cell_type": "code",
   "execution_count": 30,
   "metadata": {},
   "outputs": [],
   "source": [
    "data2['rate_06_16'] = data2[data2.columns[-13:-1]].mean(axis=1)"
   ]
  },
  {
   "cell_type": "code",
   "execution_count": 31,
   "metadata": {},
   "outputs": [],
   "source": [
    "data2 = data2[['Country','rate_06_16']]"
   ]
  },
  {
   "cell_type": "code",
   "execution_count": 32,
   "metadata": {},
   "outputs": [],
   "source": [
    "data2.columns = ['country','rate_06_16']"
   ]
  },
  {
   "cell_type": "code",
   "execution_count": 33,
   "metadata": {},
   "outputs": [
    {
     "data": {
      "text/html": [
       "<div>\n",
       "<style scoped>\n",
       "    .dataframe tbody tr th:only-of-type {\n",
       "        vertical-align: middle;\n",
       "    }\n",
       "\n",
       "    .dataframe tbody tr th {\n",
       "        vertical-align: top;\n",
       "    }\n",
       "\n",
       "    .dataframe thead th {\n",
       "        text-align: right;\n",
       "    }\n",
       "</style>\n",
       "<table border=\"1\" class=\"dataframe\">\n",
       "  <thead>\n",
       "    <tr style=\"text-align: right;\">\n",
       "      <th></th>\n",
       "      <th>country</th>\n",
       "      <th>rate_06_16</th>\n",
       "    </tr>\n",
       "  </thead>\n",
       "  <tbody>\n",
       "    <tr>\n",
       "      <th>0</th>\n",
       "      <td>Albania</td>\n",
       "      <td>NaN</td>\n",
       "    </tr>\n",
       "    <tr>\n",
       "      <th>1</th>\n",
       "      <td>Andorra</td>\n",
       "      <td>0.000000</td>\n",
       "    </tr>\n",
       "    <tr>\n",
       "      <th>2</th>\n",
       "      <td>Armenia</td>\n",
       "      <td>0.000000</td>\n",
       "    </tr>\n",
       "    <tr>\n",
       "      <th>3</th>\n",
       "      <td>Austria</td>\n",
       "      <td>0.666667</td>\n",
       "    </tr>\n",
       "    <tr>\n",
       "      <th>4</th>\n",
       "      <td>Azerbaijan</td>\n",
       "      <td>0.000000</td>\n",
       "    </tr>\n",
       "  </tbody>\n",
       "</table>\n",
       "</div>"
      ],
      "text/plain": [
       "      country  rate_06_16\n",
       "0     Albania         NaN\n",
       "1     Andorra    0.000000\n",
       "2     Armenia    0.000000\n",
       "3     Austria    0.666667\n",
       "4  Azerbaijan    0.000000"
      ]
     },
     "execution_count": 33,
     "metadata": {},
     "output_type": "execute_result"
    }
   ],
   "source": [
    "data2.head()"
   ]
  },
  {
   "cell_type": "markdown",
   "metadata": {},
   "source": [
    "---"
   ]
  },
  {
   "cell_type": "code",
   "execution_count": 34,
   "metadata": {},
   "outputs": [],
   "source": [
    "data4 = pd.read_csv('data4.csv', delimiter=';')"
   ]
  },
  {
   "cell_type": "code",
   "execution_count": 35,
   "metadata": {},
   "outputs": [],
   "source": [
    "data4 = data4[['country','2006 to 2016']]"
   ]
  },
  {
   "cell_type": "code",
   "execution_count": 36,
   "metadata": {},
   "outputs": [],
   "source": [
    "data4.columns = ['country','rate_06_16']"
   ]
  },
  {
   "cell_type": "code",
   "execution_count": 71,
   "metadata": {},
   "outputs": [],
   "source": [
    "data4['rate_06_16'] = data4['rate_06_16'].str.replace(',','.').astype(float)"
   ]
  },
  {
   "cell_type": "markdown",
   "metadata": {},
   "source": [
    "---"
   ]
  },
  {
   "cell_type": "code",
   "execution_count": 37,
   "metadata": {},
   "outputs": [],
   "source": [
    "countries = pd.read_csv('data1_country.csv')[['Region','TableName']]"
   ]
  },
  {
   "cell_type": "code",
   "execution_count": 38,
   "metadata": {},
   "outputs": [],
   "source": [
    "countries.columns = ['region', 'country']"
   ]
  },
  {
   "cell_type": "markdown",
   "metadata": {},
   "source": [
    "---"
   ]
  },
  {
   "cell_type": "code",
   "execution_count": 72,
   "metadata": {},
   "outputs": [],
   "source": [
    "merge1 = pd.merge(countries, data1, on='country')\n",
    "merge2 = pd.merge(merge1, data2, on='country')\n",
    "merge3 = pd.merge(merge2, data3, on='country')\n",
    "merge4 = pd.merge(merge3, data4, on='country')"
   ]
  },
  {
   "cell_type": "code",
   "execution_count": 73,
   "metadata": {},
   "outputs": [],
   "source": [
    "table = merge4.dropna()"
   ]
  },
  {
   "cell_type": "code",
   "execution_count": 74,
   "metadata": {},
   "outputs": [],
   "source": [
    "table.columns = ['region','country','production','legislation','consumption','taxation']"
   ]
  },
  {
   "cell_type": "code",
   "execution_count": 75,
   "metadata": {},
   "outputs": [
    {
     "data": {
      "text/html": [
       "<div>\n",
       "<style scoped>\n",
       "    .dataframe tbody tr th:only-of-type {\n",
       "        vertical-align: middle;\n",
       "    }\n",
       "\n",
       "    .dataframe tbody tr th {\n",
       "        vertical-align: top;\n",
       "    }\n",
       "\n",
       "    .dataframe thead th {\n",
       "        text-align: right;\n",
       "    }\n",
       "</style>\n",
       "<table border=\"1\" class=\"dataframe\">\n",
       "  <thead>\n",
       "    <tr style=\"text-align: right;\">\n",
       "      <th></th>\n",
       "      <th>production</th>\n",
       "      <th>legislation</th>\n",
       "      <th>consumption</th>\n",
       "      <th>taxation</th>\n",
       "    </tr>\n",
       "  </thead>\n",
       "  <tbody>\n",
       "    <tr>\n",
       "      <th>0</th>\n",
       "      <td>0.080895</td>\n",
       "      <td>0.666667</td>\n",
       "      <td>0.031030</td>\n",
       "      <td>-0.061048</td>\n",
       "    </tr>\n",
       "    <tr>\n",
       "      <th>1</th>\n",
       "      <td>0.210196</td>\n",
       "      <td>0.000000</td>\n",
       "      <td>0.142241</td>\n",
       "      <td>-0.049405</td>\n",
       "    </tr>\n",
       "    <tr>\n",
       "      <th>2</th>\n",
       "      <td>0.881785</td>\n",
       "      <td>0.500000</td>\n",
       "      <td>0.072265</td>\n",
       "      <td>-0.054084</td>\n",
       "    </tr>\n",
       "    <tr>\n",
       "      <th>5</th>\n",
       "      <td>0.143386</td>\n",
       "      <td>0.000000</td>\n",
       "      <td>0.072497</td>\n",
       "      <td>-0.487183</td>\n",
       "    </tr>\n",
       "    <tr>\n",
       "      <th>6</th>\n",
       "      <td>0.086369</td>\n",
       "      <td>0.625000</td>\n",
       "      <td>0.091103</td>\n",
       "      <td>-0.688986</td>\n",
       "    </tr>\n",
       "    <tr>\n",
       "      <th>7</th>\n",
       "      <td>0.118490</td>\n",
       "      <td>0.255102</td>\n",
       "      <td>0.078473</td>\n",
       "      <td>0.020146</td>\n",
       "    </tr>\n",
       "    <tr>\n",
       "      <th>9</th>\n",
       "      <td>0.030891</td>\n",
       "      <td>-0.388889</td>\n",
       "      <td>0.037890</td>\n",
       "      <td>0.198823</td>\n",
       "    </tr>\n",
       "    <tr>\n",
       "      <th>10</th>\n",
       "      <td>0.218210</td>\n",
       "      <td>0.000000</td>\n",
       "      <td>0.055386</td>\n",
       "      <td>0.279670</td>\n",
       "    </tr>\n",
       "    <tr>\n",
       "      <th>11</th>\n",
       "      <td>0.217062</td>\n",
       "      <td>-0.222222</td>\n",
       "      <td>0.216707</td>\n",
       "      <td>0.231843</td>\n",
       "    </tr>\n",
       "    <tr>\n",
       "      <th>12</th>\n",
       "      <td>0.217062</td>\n",
       "      <td>-0.222222</td>\n",
       "      <td>0.216707</td>\n",
       "      <td>0.231843</td>\n",
       "    </tr>\n",
       "    <tr>\n",
       "      <th>13</th>\n",
       "      <td>0.199471</td>\n",
       "      <td>-0.375000</td>\n",
       "      <td>0.090194</td>\n",
       "      <td>1.786133</td>\n",
       "    </tr>\n",
       "    <tr>\n",
       "      <th>14</th>\n",
       "      <td>0.515184</td>\n",
       "      <td>0.200000</td>\n",
       "      <td>0.032801</td>\n",
       "      <td>0.243787</td>\n",
       "    </tr>\n",
       "    <tr>\n",
       "      <th>15</th>\n",
       "      <td>0.103707</td>\n",
       "      <td>0.000000</td>\n",
       "      <td>0.139032</td>\n",
       "      <td>-0.020335</td>\n",
       "    </tr>\n",
       "    <tr>\n",
       "      <th>16</th>\n",
       "      <td>0.177522</td>\n",
       "      <td>0.250000</td>\n",
       "      <td>0.126706</td>\n",
       "      <td>-0.580539</td>\n",
       "    </tr>\n",
       "    <tr>\n",
       "      <th>17</th>\n",
       "      <td>0.079956</td>\n",
       "      <td>1.000000</td>\n",
       "      <td>0.021243</td>\n",
       "      <td>-0.800281</td>\n",
       "    </tr>\n",
       "    <tr>\n",
       "      <th>18</th>\n",
       "      <td>0.193479</td>\n",
       "      <td>0.000000</td>\n",
       "      <td>0.096413</td>\n",
       "      <td>0.633796</td>\n",
       "    </tr>\n",
       "    <tr>\n",
       "      <th>20</th>\n",
       "      <td>0.107187</td>\n",
       "      <td>0.000000</td>\n",
       "      <td>0.197301</td>\n",
       "      <td>-0.885605</td>\n",
       "    </tr>\n",
       "    <tr>\n",
       "      <th>22</th>\n",
       "      <td>0.066433</td>\n",
       "      <td>0.200000</td>\n",
       "      <td>0.076144</td>\n",
       "      <td>-0.249377</td>\n",
       "    </tr>\n",
       "    <tr>\n",
       "      <th>23</th>\n",
       "      <td>0.120658</td>\n",
       "      <td>0.000000</td>\n",
       "      <td>0.001519</td>\n",
       "      <td>-0.477152</td>\n",
       "    </tr>\n",
       "    <tr>\n",
       "      <th>24</th>\n",
       "      <td>0.288686</td>\n",
       "      <td>0.000000</td>\n",
       "      <td>0.058372</td>\n",
       "      <td>0.065337</td>\n",
       "    </tr>\n",
       "    <tr>\n",
       "      <th>25</th>\n",
       "      <td>0.148969</td>\n",
       "      <td>0.500000</td>\n",
       "      <td>0.025425</td>\n",
       "      <td>-0.199679</td>\n",
       "    </tr>\n",
       "    <tr>\n",
       "      <th>26</th>\n",
       "      <td>3.782408</td>\n",
       "      <td>0.291667</td>\n",
       "      <td>0.037335</td>\n",
       "      <td>0.417776</td>\n",
       "    </tr>\n",
       "    <tr>\n",
       "      <th>27</th>\n",
       "      <td>0.268986</td>\n",
       "      <td>0.000000</td>\n",
       "      <td>0.048751</td>\n",
       "      <td>0.908811</td>\n",
       "    </tr>\n",
       "    <tr>\n",
       "      <th>28</th>\n",
       "      <td>0.127119</td>\n",
       "      <td>0.000000</td>\n",
       "      <td>0.029693</td>\n",
       "      <td>-0.387833</td>\n",
       "    </tr>\n",
       "  </tbody>\n",
       "</table>\n",
       "</div>"
      ],
      "text/plain": [
       "    production  legislation  consumption  taxation\n",
       "0     0.080895     0.666667     0.031030 -0.061048\n",
       "1     0.210196     0.000000     0.142241 -0.049405\n",
       "2     0.881785     0.500000     0.072265 -0.054084\n",
       "5     0.143386     0.000000     0.072497 -0.487183\n",
       "6     0.086369     0.625000     0.091103 -0.688986\n",
       "7     0.118490     0.255102     0.078473  0.020146\n",
       "9     0.030891    -0.388889     0.037890  0.198823\n",
       "10    0.218210     0.000000     0.055386  0.279670\n",
       "11    0.217062    -0.222222     0.216707  0.231843\n",
       "12    0.217062    -0.222222     0.216707  0.231843\n",
       "13    0.199471    -0.375000     0.090194  1.786133\n",
       "14    0.515184     0.200000     0.032801  0.243787\n",
       "15    0.103707     0.000000     0.139032 -0.020335\n",
       "16    0.177522     0.250000     0.126706 -0.580539\n",
       "17    0.079956     1.000000     0.021243 -0.800281\n",
       "18    0.193479     0.000000     0.096413  0.633796\n",
       "20    0.107187     0.000000     0.197301 -0.885605\n",
       "22    0.066433     0.200000     0.076144 -0.249377\n",
       "23    0.120658     0.000000     0.001519 -0.477152\n",
       "24    0.288686     0.000000     0.058372  0.065337\n",
       "25    0.148969     0.500000     0.025425 -0.199679\n",
       "26    3.782408     0.291667     0.037335  0.417776\n",
       "27    0.268986     0.000000     0.048751  0.908811\n",
       "28    0.127119     0.000000     0.029693 -0.387833"
      ]
     },
     "execution_count": 75,
     "metadata": {},
     "output_type": "execute_result"
    }
   ],
   "source": [
    "table._get_numeric_data()"
   ]
  },
  {
   "cell_type": "code",
   "execution_count": 76,
   "metadata": {},
   "outputs": [],
   "source": [
    "#corr = table._get_numeric_data().corr()"
   ]
  },
  {
   "cell_type": "code",
   "execution_count": 77,
   "metadata": {},
   "outputs": [],
   "source": [
    "import seaborn as sns\n",
    "%matplotlib inline"
   ]
  },
  {
   "cell_type": "code",
   "execution_count": 79,
   "metadata": {},
   "outputs": [
    {
     "data": {
      "text/plain": [
       "<seaborn.axisgrid.PairGrid at 0x10b197320>"
      ]
     },
     "execution_count": 79,
     "metadata": {},
     "output_type": "execute_result"
    },
    {
     "data": {
      "image/png": "[encoded data removed]",
      "text/plain": [
       "<Figure size 836.25x720 with 20 Axes>"
      ]
     },
     "metadata": {},
     "output_type": "display_data"
    }
   ],
   "source": [
    "sns.pairplot(table, hue=\"country\")"
   ]
  },
  {
   "cell_type": "code",
   "execution_count": 81,
   "metadata": {},
   "outputs": [],
   "source": [
    "table.to_csv('energy.csv')"
   ]
  },
  {
   "cell_type": "code",
   "execution_count": null,
   "metadata": {},
   "outputs": [],
   "source": []
  }
 ],
 "metadata": {
  "kernelspec": {
   "display_name": "Python 3",
   "language": "python",
   "name": "python3"
  },
  "language_info": {
   "codemirror_mode": {
    "name": "ipython",
    "version": 3
   },
   "file_extension": ".py",
   "mimetype": "text/x-python",
   "name": "python",
   "nbconvert_exporter": "python",
   "pygments_lexer": "ipython3",
   "version": "3.6.5"
  }
 },
 "nbformat": 4,
 "nbformat_minor": 2
}
